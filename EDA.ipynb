{
 "cells": [
  {
   "cell_type": "code",
   "execution_count": 1,
   "metadata": {},
   "outputs": [],
   "source": [
    "import numpy as np\n",
    "import pandas as pd\n",
    "import matplotlib.pyplot as plt"
   ]
  },
  {
   "cell_type": "code",
   "execution_count": 2,
   "metadata": {},
   "outputs": [
    {
     "name": "stdout",
     "output_type": "stream",
     "text": [
      "first 10: /opt/ml/input/data/train/images/006178_female_Asian_19 /opt/ml/input/data/train/images/001761_male_Asian_44 /opt/ml/input/data/train/images/005140_female_Asian_32 /opt/ml/input/data/train/images/006487_female_Asian_18 /opt/ml/input/data/train/images/005502_female_Asian_49 /opt/ml/input/data/train/images/003759_male_Asian_50 /opt/ml/input/data/train/images/005102_female_Asian_58 /opt/ml/input/data/train/images/006098_male_Asian_18 /opt/ml/input/data/train/images/000778_female_Asian_56 /opt/ml/input/data/train/images/001840-1_male_Asian_22\n",
      "total number: 2700\n"
     ]
    }
   ],
   "source": [
    "import glob\n",
    "print(\"first 10:\", *glob.glob(\"/opt/ml/input/data/train/images/*\")[:10])\n",
    "print(\"total number:\", len(glob.glob(\"/opt/ml/input/data/train/images/*\")))"
   ]
  },
  {
   "cell_type": "code",
   "execution_count": 3,
   "metadata": {},
   "outputs": [
    {
     "name": "stdout",
     "output_type": "stream",
     "text": [
      "data_name:  [['006178_female_Asian_19', '006178', 'female', 'Asian', '19'], ['001761_male_Asian_44', '001761', 'male', 'Asian', '44'], ['005140_female_Asian_32', '005140', 'female', 'Asian', '32'], ['006487_female_Asian_18', '006487', 'female', 'Asian', '18'], ['005502_female_Asian_49', '005502', 'female', 'Asian', '49'], ['003759_male_Asian_50', '003759', 'male', 'Asian', '50'], ['005102_female_Asian_58', '005102', 'female', 'Asian', '58'], ['006098_male_Asian_18', '006098', 'male', 'Asian', '18'], ['000778_female_Asian_56', '000778', 'female', 'Asian', '56'], ['001840-1_male_Asian_22', '001840-1', 'male', 'Asian', '22']]\n",
      "number of elements:  {5}\n"
     ]
    }
   ],
   "source": [
    "file_name = glob.glob(\"/opt/ml/input/data/train/images/*\")\n",
    "file_name = [x.split('/')[-1] for x in file_name]\n",
    "data_name = [[x, *x.split('_')] for x in file_name]\n",
    "print(\"data_name: \", data_name[:10])\n",
    "print(\"number of elements: \", set([len(x) for x in data_name]))"
   ]
  },
  {
   "cell_type": "code",
   "execution_count": 4,
   "metadata": {},
   "outputs": [
    {
     "name": "stdout",
     "output_type": "stream",
     "text": [
      "data_name:  [['006178_female_Asian_19', '006178', 'female', 'Asian', '19', ['mask', 'mask', 'mask', 'normal', 'mask', 'incorrect', 'mask']], ['001761_male_Asian_44', '001761', 'male', 'Asian', '44', ['mask', 'mask', 'normal', 'mask', 'mask', 'mask', 'incorrect']], ['005140_female_Asian_32', '005140', 'female', 'Asian', '32', ['mask', 'mask', 'normal', 'mask', 'mask', 'mask', 'incorrect']], ['006487_female_Asian_18', '006487', 'female', 'Asian', '18', ['mask', 'mask', 'normal', 'mask', 'mask', 'mask', 'incorrect']], ['005502_female_Asian_49', '005502', 'female', 'Asian', '49', ['mask', 'mask', 'normal', 'mask', 'mask', 'mask', 'incorrect']], ['003759_male_Asian_50', '003759', 'male', 'Asian', '50', ['mask', 'mask', 'normal', 'mask', 'mask', 'mask', 'incorrect']], ['005102_female_Asian_58', '005102', 'female', 'Asian', '58', ['mask', 'mask', 'normal', 'mask', 'mask', 'mask', 'incorrect']], ['006098_male_Asian_18', '006098', 'male', 'Asian', '18', ['mask', 'mask', 'normal', 'mask', 'mask', 'mask', 'incorrect']], ['000778_female_Asian_56', '000778', 'female', 'Asian', '56', ['mask', 'mask', 'normal', 'mask', 'mask', 'mask', 'incorrect']], ['001840-1_male_Asian_22', '001840-1', 'male', 'Asian', '22', ['mask', 'mask', 'normal', 'mask', 'mask', 'mask', 'incorrect']]]\n"
     ]
    }
   ],
   "source": [
    "def func_mask(mask):\n",
    "    return \"incorrect\" if \"incorrect\" in mask else \"normal\" if \"normal\" in mask else \"mask\"\n",
    "\n",
    "for i in range(len(data_name)):\n",
    "    temp_dir = glob.glob(\"/opt/ml/input/data/train/images/\"+data_name[i][0]+\"/*\")\n",
    "    temp = []\n",
    "    for x in temp_dir:\n",
    "        temp.append(func_mask(x.split('/')[-1]))\n",
    "    data_name[i].append(temp)\n",
    "\n",
    "print(\"data_name: \", data_name[:10])"
   ]
  },
  {
   "cell_type": "code",
   "execution_count": 20,
   "metadata": {},
   "outputs": [
    {
     "data": {
      "text/plain": [
       "(array([192.,   0., 407.,   0., 267.,   0.,   0.,  41.,   0.,  58.,   0.,\n",
       "         72.,   0.,   0.,  62.,   0.,  82.,   0.,   0.,  44.,   0.,  15.,\n",
       "          0.,  25.,   0.,   0.,  16.,   0.,  17.,   0.,   3.,   0.,   0.,\n",
       "          7.,   0.,   5.,   0.,   0.,  13.,   0.,  19.,   0.,   8.,   0.,\n",
       "          0.,   3.,   0.,  14.,   0.,   0.,   6.,   0.,  20.,   0.,   7.,\n",
       "          0.,   0.,  13.,   0.,  18.,   0.,  13.,   0.,   0.,  27.,   0.,\n",
       "         14.,   0.,   0.,  10.,   0.,  39.,   0.,  31.,   0.,   0.,  80.,\n",
       "          0.,  63.,   0.,  78.,   0.,   0.,  64.,   0.,  82.,   0.,   0.,\n",
       "        100.,   0., 123.,   0., 106.,   0.,   0., 159.,   0.,  85.,   0.,\n",
       "        192.]),\n",
       " array([18.  , 18.42, 18.84, 19.26, 19.68, 20.1 , 20.52, 20.94, 21.36,\n",
       "        21.78, 22.2 , 22.62, 23.04, 23.46, 23.88, 24.3 , 24.72, 25.14,\n",
       "        25.56, 25.98, 26.4 , 26.82, 27.24, 27.66, 28.08, 28.5 , 28.92,\n",
       "        29.34, 29.76, 30.18, 30.6 , 31.02, 31.44, 31.86, 32.28, 32.7 ,\n",
       "        33.12, 33.54, 33.96, 34.38, 34.8 , 35.22, 35.64, 36.06, 36.48,\n",
       "        36.9 , 37.32, 37.74, 38.16, 38.58, 39.  , 39.42, 39.84, 40.26,\n",
       "        40.68, 41.1 , 41.52, 41.94, 42.36, 42.78, 43.2 , 43.62, 44.04,\n",
       "        44.46, 44.88, 45.3 , 45.72, 46.14, 46.56, 46.98, 47.4 , 47.82,\n",
       "        48.24, 48.66, 49.08, 49.5 , 49.92, 50.34, 50.76, 51.18, 51.6 ,\n",
       "        52.02, 52.44, 52.86, 53.28, 53.7 , 54.12, 54.54, 54.96, 55.38,\n",
       "        55.8 , 56.22, 56.64, 57.06, 57.48, 57.9 , 58.32, 58.74, 59.16,\n",
       "        59.58, 60.  ]),\n",
       " <a list of 100 Patch objects>)"
      ]
     },
     "execution_count": 20,
     "metadata": {},
     "output_type": "execute_result"
    },
    {
     "data": {
      "image/png": "[encoded data removed]",
      "text/plain": [
       "<Figure size 864x432 with 1 Axes>"
      ]
     },
     "metadata": {
      "needs_background": "light"
     },
     "output_type": "display_data"
    }
   ],
   "source": [
    "fig = plt.figure(figsize=(12,6))\n",
    "age_all = [int(x[4]) for x in data_name]\n",
    "age_all.sort()\n",
    "plt.hist(age_all, bins=100)"
   ]
  },
  {
   "cell_type": "code",
   "execution_count": 10,
   "metadata": {},
   "outputs": [
    {
     "data": {
      "text/plain": [
       "Counter({'mask_female_young': 3660,\n",
       "         'normal_female_young': 732,\n",
       "         'incorrect_female_young': 732,\n",
       "         'mask_male_mid': 2050,\n",
       "         'normal_male_mid': 410,\n",
       "         'incorrect_male_mid': 410,\n",
       "         'mask_female_mid': 4085,\n",
       "         'normal_female_mid': 817,\n",
       "         'incorrect_female_mid': 817,\n",
       "         'mask_male_young': 2745,\n",
       "         'normal_male_young': 549,\n",
       "         'incorrect_male_young': 549,\n",
       "         'mask_female_old': 545,\n",
       "         'normal_female_old': 109,\n",
       "         'incorrect_female_old': 109,\n",
       "         'mask_male_old': 415,\n",
       "         'normal_male_old': 83,\n",
       "         'incorrect_male_old': 83})"
      ]
     },
     "execution_count": 10,
     "metadata": {},
     "output_type": "execute_result"
    }
   ],
   "source": [
    "from collections import Counter\n",
    "\n",
    "def func_age(age):\n",
    "    return \"young\" if age < 30 else \"old\" if age >= 60 else \"mid\"\n",
    "\n",
    "population = []\n",
    "for x in data_name:\n",
    "    temp = []\n",
    "    for i in range(len(x[-1])):\n",
    "        temp.append(x[-1][i]+'_'+x[2]+'_'+func_age(int(x[4])))\n",
    "    population.extend(temp)\n",
    "\n",
    "Counter(population)"
   ]
  },
  {
   "cell_type": "code",
   "execution_count": 11,
   "metadata": {},
   "outputs": [],
   "source": [
    "mapping = {\n",
    "    'mask_male_young': '0',\n",
    "    'mask_male_mid': '1',\n",
    "    'mask_male_old': '2',\n",
    "    'mask_female_young': '3',\n",
    "    'mask_female_mid': '4',\n",
    "    'mask_female_old': '5',\n",
    "    'incorrect_male_young': '6',\n",
    "    'incorrect_male_mid': '7',\n",
    "    'incorrect_male_old': '8',\n",
    "    'incorrect_female_young': '9',\n",
    "    'incorrect_female_mid': '10',\n",
    "    'incorrect_female_old': '11',\n",
    "    'normal_male_young': '12',\n",
    "    'normal_male_mid': '13',\n",
    "    'normal_male_old': '14',\n",
    "    'normal_female_young': '15',\n",
    "    'normal_female_mid': '16',\n",
    "    'normal_female_old': '17',\n",
    "}"
   ]
  },
  {
   "cell_type": "code",
   "execution_count": 12,
   "metadata": {},
   "outputs": [
    {
     "data": {
      "image/png": "[encoded data removed]",
      "text/plain": [
       "<Figure size 432x288 with 1 Axes>"
      ]
     },
     "metadata": {
      "needs_background": "light"
     },
     "output_type": "display_data"
    }
   ],
   "source": [
    "labels, values = zip(*Counter(population).items())\n",
    "labels = [int(mapping[x]) for x in labels]\n",
    "zipped_lists = zip(labels, values)\n",
    "sorted_pairs = sorted(zipped_lists)\n",
    "labels, values = zip(*sorted_pairs)\n",
    "\n",
    "indexes = np.arange(len(labels))\n",
    "width = 1\n",
    "\n",
    "plt.title(\"Labels\")\n",
    "plt.bar(indexes, values, width)\n",
    "plt.xticks(indexes + width * 0.5, labels)\n",
    "plt.show()"
   ]
  },
  {
   "cell_type": "code",
   "execution_count": 13,
   "metadata": {},
   "outputs": [
    {
     "data": {
      "text/plain": [
       "<BarContainer object of 3 artists>"
      ]
     },
     "execution_count": 13,
     "metadata": {},
     "output_type": "execute_result"
    },
    {
     "data": {
      "image/png": "[encoded data removed]",
      "text/plain": [
       "<Figure size 864x432 with 3 Axes>"
      ]
     },
     "metadata": {
      "needs_background": "light"
     },
     "output_type": "display_data"
    }
   ],
   "source": [
    "fig, ax = plt.subplots(1, 3, figsize = (12, 6))\n",
    "\n",
    "gender = {\"male\":0, \"female\":0}\n",
    "for x in population:\n",
    "    if \"female\" in x: gender[\"female\"] += 1\n",
    "    else: gender[\"male\"] += 1\n",
    "\n",
    "mask = {\"mask\":0, \"incorrect\":0, \"normal\": 0}\n",
    "for x in population:\n",
    "    if \"mask\" in x: mask[\"mask\"] += 1\n",
    "    elif \"incorrect\" in x: mask[\"incorrect\"] += 1\n",
    "    else: mask[\"normal\"] += 1\n",
    "\n",
    "age = {\"young\":0, \"mid\":0, \"old\": 0}\n",
    "for x in population:\n",
    "    if \"young\" in x: age[\"young\"] += 1\n",
    "    elif \"mid\" in x: age[\"mid\"] += 1\n",
    "    else: age[\"old\"] += 1\n",
    "\n",
    "ax[0].bar(list(gender.keys()), gender.values())\n",
    "ax[1].bar(list(mask.keys()), mask.values())\n",
    "ax[2].bar(list(age.keys()), age.values())"
   ]
  },
  {
   "cell_type": "code",
   "execution_count": 28,
   "metadata": {},
   "outputs": [
    {
     "name": "stdout",
     "output_type": "stream",
     "text": [
      "001436_male_Asian_57\n"
     ]
    },
    {
     "data": {
      "image/png": "[encoded data removed]",
      "text/plain": [
       "<Figure size 864x864 with 9 Axes>"
      ]
     },
     "metadata": {
      "needs_background": "light"
     },
     "output_type": "display_data"
    }
   ],
   "source": [
    "import random\n",
    "from PIL import Image\n",
    "fig, ax = plt.subplots(3, 3, figsize = (12, 12))\n",
    "ax = ax.flatten()\n",
    "for i in range(9):\n",
    "    print(random.choice(data_name)[0])\n",
    "    idx1 = random.choice(data_name)\n",
    "    idx2 = random.randint(0, 6)\n",
    "    image_path = \"/opt/ml/input/data/train/images/\" + data_name[idx1][0]\n",
    "    print(glob.glob(image_path+\"/*\").choice())\n",
    "    print(image_path)\n",
    "    break\n",
    "#     ax[i] = \n",
    "# image_path = '/opt/ml/input/data/train/images/000001_female_Asian_45/incorrect_mask.jpg'\n",
    "# im = Image.open(image_path)\n",
    "# plt.imshow(np.array(im).squeeze(), cmap='gray')\n",
    "# im.show()"
   ]
  },
  {
   "cell_type": "code",
   "execution_count": null,
   "metadata": {},
   "outputs": [],
   "source": []
  }
 ],
 "metadata": {
  "interpreter": {
   "hash": "d4d1e4263499bec80672ea0156c357c1ee493ec2b1c70f0acce89fc37c4a6abe"
  },
  "kernelspec": {
   "display_name": "Python 3.8.5 ('base')",
   "language": "python",
   "name": "python3"
  },
  "language_info": {
   "codemirror_mode": {
    "name": "ipython",
    "version": 3
   },
   "file_extension": ".py",
   "mimetype": "text/x-python",
   "name": "python",
   "nbconvert_exporter": "python",
   "pygments_lexer": "ipython3",
   "version": "3.8.5"
  },
  "orig_nbformat": 4
 },
 "nbformat": 4,
 "nbformat_minor": 2
}
